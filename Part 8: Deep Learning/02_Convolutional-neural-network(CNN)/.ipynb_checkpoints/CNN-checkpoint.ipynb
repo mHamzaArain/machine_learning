{
 "cells": [
  {
   "cell_type": "markdown",
   "metadata": {},
   "source": [
    "# Convolutional Neural Network"
   ]
  },
  {
   "cell_type": "markdown",
   "metadata": {},
   "source": [
    "## Part 1: Building libraries for the CNN"
   ]
  },
  {
   "cell_type": "code",
   "execution_count": 1,
   "metadata": {},
   "outputs": [
    {
     "name": "stderr",
     "output_type": "stream",
     "text": [
      "Using TensorFlow backend.\n"
     ]
    }
   ],
   "source": [
    "# Substep 1: Importing the Keras libraries and packages\n",
    "from keras.models import Sequential      # To init. NN through seq. of layers\n",
    "from keras.layers import Convolution2D   # To add convo;utional layers\n",
    "from keras.layers import MaxPooling2D    # To add pooling layers\n",
    "from keras.layers import Flatten         # Converging maxpooling to flattening\n",
    "from keras.layers import Dense           # To add fully connected layers"
   ]
  },
  {
   "cell_type": "code",
   "execution_count": 2,
   "metadata": {},
   "outputs": [],
   "source": [
    "# Substep 2: Initialising the CNN\n",
    "classifier = Sequential()"
   ]
  },
  {
   "cell_type": "markdown",
   "metadata": {},
   "source": [
    "## Step 2: Making CNN layesrs"
   ]
  },
  {
   "cell_type": "code",
   "execution_count": 3,
   "metadata": {},
   "outputs": [
    {
     "name": "stderr",
     "output_type": "stream",
     "text": [
      "/home/hamza/anaconda3/lib/python3.7/site-packages/ipykernel_launcher.py:9: UserWarning: Update your `Conv2D` call to the Keras 2 API: `Conv2D(32, (3, 3), input_shape=(64, 64, 3..., activation=\"relu\")`\n",
      "  if __name__ == '__main__':\n"
     ]
    }
   ],
   "source": [
    "# Substep 1 - Convolution: Create \"feature maps\" to obtain 1st convolutional\n",
    "            # layer by applying feature detector.\n",
    "            # e.g;  I/P image ⨂ feature detector = feature map\n",
    "            # Here, ⨂ > N-Ary Circled Times Operator.\n",
    "classifier.add(\n",
    "        Convolution2D(32,    # Total filteres/kernels/feature detectors \n",
    "                      3, 3,  # Total row & col dimention for filteres/kernel/feature detector\n",
    "                      input_shape = (64, 64, 3),   # Convert all images into same size/format \n",
    "                      activation = 'relu'))        # relu > rectifier function to resist from linearity"
   ]
  },
  {
   "cell_type": "code",
   "execution_count": 4,
   "metadata": {},
   "outputs": [],
   "source": [
    "# Substep 2 - Pooling > Reducing size of feature map to get pooled feature map\n",
    "classifier.add(MaxPooling2D(pool_size = (2, 2))) # Total row & col dimention for pooled feature map"
   ]
  },
  {
   "cell_type": "code",
   "execution_count": 5,
   "metadata": {},
   "outputs": [
    {
     "name": "stderr",
     "output_type": "stream",
     "text": [
      "/home/hamza/anaconda3/lib/python3.7/site-packages/ipykernel_launcher.py:3: UserWarning: Update your `Conv2D` call to the Keras 2 API: `Conv2D(32, (3, 3), activation=\"relu\")`\n",
      "  This is separate from the ipykernel package so we can avoid doing imports until\n"
     ]
    }
   ],
   "source": [
    "# Repeating substep 1 & 2. \n",
    "# Adding a second convolutional layer\n",
    "classifier.add(Convolution2D(32, 3, 3, activation = 'relu'))\n",
    "classifier.add(MaxPooling2D(pool_size = (2, 2)))"
   ]
  },
  {
   "cell_type": "code",
   "execution_count": 6,
   "metadata": {},
   "outputs": [],
   "source": [
    "# Substep 3 - Flattening: Converging pixels into nodes\n",
    "classifier.add(Flatten())"
   ]
  },
  {
   "cell_type": "code",
   "execution_count": 7,
   "metadata": {},
   "outputs": [
    {
     "name": "stderr",
     "output_type": "stream",
     "text": [
      "/home/hamza/anaconda3/lib/python3.7/site-packages/ipykernel_launcher.py:3: UserWarning: Update your `Dense` call to the Keras 2 API: `Dense(activation=\"relu\", units=128)`\n",
      "  This is separate from the ipykernel package so we can avoid doing imports until\n",
      "/home/hamza/anaconda3/lib/python3.7/site-packages/ipykernel_launcher.py:6: UserWarning: Update your `Dense` call to the Keras 2 API: `Dense(activation=\"sigmoid\", units=1)`\n",
      "  \n"
     ]
    }
   ],
   "source": [
    "# Substep 4 - Full connection(hidden layer):  Adding hidden & output layer\n",
    "classifier.add(Dense(output_dim = 128,     # No. of nodes hidden layer\n",
    "                     activation = 'relu'))  # relu > rectifier function to resist from linearity\n",
    "                                            # for hidden layer\n",
    "classifier.add(Dense(output_dim = 1,      # One node for outcome for one class; either cat/dog\n",
    "                     activation = 'sigmoid'))  # sigmoid function for 1 DV \n",
    "                                                # Softmax function: Actually sigmoid function but used for more than 1 DV. "
   ]
  },
  {
   "cell_type": "code",
   "execution_count": 8,
   "metadata": {},
   "outputs": [],
   "source": [
    "# Step 2(a): Compiling the CNN\n",
    "classifier.compile(optimizer = 'adam',            # Type of Stochastic gradient algo to organizing of back propagation in most efficient way\n",
    "                   metrics = ['accuracy'],        # \n",
    "                   loss = 'binary_crossentropy')  # O/P is 1 variable (binary)->  binary_crossentropy\n",
    "                                                    # more than 2 O/P variables called -> catagorical_crossentropy "
   ]
  },
  {
   "cell_type": "markdown",
   "metadata": {},
   "source": [
    "## Part 3: Fitting the CNN to the images"
   ]
  },
  {
   "cell_type": "code",
   "execution_count": 9,
   "metadata": {},
   "outputs": [],
   "source": [
    "# Substep 1: Image Augmenteation > avoid overfitting, enrich dataset, gives good result in small dataset \n",
    "from keras.preprocessing.image import ImageDataGenerator\n",
    "train_datagen = ImageDataGenerator(rescale = 1./255,  # fixing size\n",
    "                                   shear_range = 0.2, # Geometrical transformation to fix pixel\n",
    "                                   zoom_range = 0.2,  #  Zoom image\n",
    "                                   horizontal_flip = True) # flip image horizontally"
   ]
  },
  {
   "cell_type": "code",
   "execution_count": 10,
   "metadata": {},
   "outputs": [],
   "source": [
    "# Substep 2: Again rescale\n",
    "test_datagen = ImageDataGenerator(rescale = 1./255)"
   ]
  },
  {
   "cell_type": "code",
   "execution_count": 11,
   "metadata": {},
   "outputs": [
    {
     "name": "stdout",
     "output_type": "stream",
     "text": [
      "Found 8000 images belonging to 2 classes.\n"
     ]
    }
   ],
   "source": [
    "# Substep 3: Creating training set \n",
    "training_set = train_datagen.flow_from_directory('dataset/training_set',   # location\n",
    "                                                 target_size = (64, 64),   # Dimension size for row & col\n",
    "                                                 batch_size = 32,          # Splitting dataset into 32\n",
    "                                                 class_mode = 'binary')    # binary > 2 classes: cat\\dog"
   ]
  },
  {
   "cell_type": "code",
   "execution_count": 12,
   "metadata": {},
   "outputs": [
    {
     "name": "stdout",
     "output_type": "stream",
     "text": [
      "Found 2000 images belonging to 2 classes.\n"
     ]
    }
   ],
   "source": [
    "# Substep 4: Creating test set\n",
    "test_set = test_datagen.flow_from_directory('dataset/test_set',            # location\n",
    "                                            target_size = (64, 64),        # Dimension size for row & col\n",
    "                                            batch_size = 32,               # Splitting dataset into 32\n",
    "                                            class_mode = 'binary')         # binary > 2 classes: cat\\dog"
   ]
  },
  {
   "cell_type": "code",
   "execution_count": 13,
   "metadata": {},
   "outputs": [
    {
     "name": "stderr",
     "output_type": "stream",
     "text": [
      "/home/hamza/anaconda3/lib/python3.7/site-packages/ipykernel_launcher.py:6: UserWarning: The semantics of the Keras 2 argument `steps_per_epoch` is not the same as the Keras 1 argument `samples_per_epoch`. `steps_per_epoch` is the number of batches to draw from the generator at each epoch. Basically steps_per_epoch = samples_per_epoch/batch_size. Similarly `nb_val_samples`->`validation_steps` and `val_samples`->`steps` arguments have changed. Update your method calls accordingly.\n",
      "  \n",
      "/home/hamza/anaconda3/lib/python3.7/site-packages/ipykernel_launcher.py:6: UserWarning: Update your `fit_generator` call to the Keras 2 API: `fit_generator(<keras.pre..., validation_data=<keras.pre..., steps_per_epoch=250, epochs=25, validation_steps=2000)`\n",
      "  \n"
     ]
    },
    {
     "name": "stdout",
     "output_type": "stream",
     "text": [
      "Epoch 1/25\n",
      "250/250 [==============================] - 489s 2s/step - loss: 0.6758 - accuracy: 0.5633 - val_loss: 0.5430 - val_accuracy: 0.6911\n",
      "Epoch 2/25\n",
      "250/250 [==============================] - 485s 2s/step - loss: 0.5995 - accuracy: 0.6793 - val_loss: 0.5467 - val_accuracy: 0.6496\n",
      "Epoch 3/25\n",
      "250/250 [==============================] - 497s 2s/step - loss: 0.5667 - accuracy: 0.7078 - val_loss: 0.4243 - val_accuracy: 0.7369\n",
      "Epoch 4/25\n",
      "250/250 [==============================] - 508s 2s/step - loss: 0.5268 - accuracy: 0.7371 - val_loss: 0.3918 - val_accuracy: 0.7491\n",
      "Epoch 5/25\n",
      "250/250 [==============================] - 484s 2s/step - loss: 0.5053 - accuracy: 0.7481 - val_loss: 0.4575 - val_accuracy: 0.7660\n",
      "Epoch 6/25\n",
      "250/250 [==============================] - 481s 2s/step - loss: 0.4822 - accuracy: 0.7636 - val_loss: 0.4482 - val_accuracy: 0.7743\n",
      "Epoch 7/25\n",
      "250/250 [==============================] - 480s 2s/step - loss: 0.4659 - accuracy: 0.7779 - val_loss: 0.4427 - val_accuracy: 0.7779\n",
      "Epoch 8/25\n",
      "250/250 [==============================] - 480s 2s/step - loss: 0.4494 - accuracy: 0.7831 - val_loss: 0.3036 - val_accuracy: 0.7379\n",
      "Epoch 9/25\n",
      "250/250 [==============================] - 485s 2s/step - loss: 0.4378 - accuracy: 0.7939 - val_loss: 0.3825 - val_accuracy: 0.7674\n",
      "Epoch 10/25\n",
      "250/250 [==============================] - 481s 2s/step - loss: 0.4246 - accuracy: 0.8030 - val_loss: 0.3865 - val_accuracy: 0.7811\n",
      "Epoch 11/25\n",
      "250/250 [==============================] - 483s 2s/step - loss: 0.4122 - accuracy: 0.8073 - val_loss: 0.4632 - val_accuracy: 0.7914\n",
      "Epoch 12/25\n",
      "250/250 [==============================] - 486s 2s/step - loss: 0.3930 - accuracy: 0.8188 - val_loss: 0.3955 - val_accuracy: 0.7970\n",
      "Epoch 13/25\n",
      "250/250 [==============================] - 480s 2s/step - loss: 0.3849 - accuracy: 0.8273 - val_loss: 0.1889 - val_accuracy: 0.8006\n",
      "Epoch 14/25\n",
      "250/250 [==============================] - 811s 3s/step - loss: 0.3667 - accuracy: 0.8345 - val_loss: 0.3476 - val_accuracy: 0.8001\n",
      "Epoch 15/25\n",
      "250/250 [==============================] - 485s 2s/step - loss: 0.3660 - accuracy: 0.8353 - val_loss: 0.5297 - val_accuracy: 0.7892\n",
      "Epoch 16/25\n",
      "250/250 [==============================] - 486s 2s/step - loss: 0.3479 - accuracy: 0.8426 - val_loss: 0.2825 - val_accuracy: 0.7933\n",
      "Epoch 17/25\n",
      "250/250 [==============================] - 487s 2s/step - loss: 0.3434 - accuracy: 0.8494 - val_loss: 0.2635 - val_accuracy: 0.7926\n",
      "Epoch 18/25\n",
      "250/250 [==============================] - 490s 2s/step - loss: 0.3232 - accuracy: 0.8583 - val_loss: 0.7788 - val_accuracy: 0.7978\n",
      "Epoch 19/25\n",
      "250/250 [==============================] - 477s 2s/step - loss: 0.3176 - accuracy: 0.8621 - val_loss: 0.4794 - val_accuracy: 0.8075\n",
      "Epoch 20/25\n",
      "250/250 [==============================] - 18174s 73s/step - loss: 0.3019 - accuracy: 0.8704 - val_loss: 0.3596 - val_accuracy: 0.8111\n",
      "Epoch 21/25\n",
      "250/250 [==============================] - 481s 2s/step - loss: 0.2984 - accuracy: 0.8739 - val_loss: 0.4922 - val_accuracy: 0.7779\n",
      "Epoch 22/25\n",
      "250/250 [==============================] - 481s 2s/step - loss: 0.2880 - accuracy: 0.8731 - val_loss: 0.8815 - val_accuracy: 0.7939\n",
      "Epoch 23/25\n",
      "250/250 [==============================] - 486s 2s/step - loss: 0.2673 - accuracy: 0.8903 - val_loss: 0.5947 - val_accuracy: 0.7907\n",
      "Epoch 24/25\n",
      "250/250 [==============================] - 482s 2s/step - loss: 0.2609 - accuracy: 0.8894 - val_loss: 0.4779 - val_accuracy: 0.7918\n",
      "Epoch 25/25\n",
      "250/250 [==============================] - 539s 2s/step - loss: 0.2497 - accuracy: 0.8957 - val_loss: 0.9836 - val_accuracy: 0.7976\n"
     ]
    },
    {
     "data": {
      "text/plain": [
       "<keras.callbacks.callbacks.History at 0x7effb00372d0>"
      ]
     },
     "execution_count": 13,
     "metadata": {},
     "output_type": "execute_result"
    }
   ],
   "source": [
    "# Substep 5: Training set \n",
    "classifier.fit_generator(training_set,               # training set\n",
    "                         samples_per_epoch = 8000,   # no. of images in training set   \n",
    "                         nb_epoch = 25,              # Process of propagation to loss function is called epoch\n",
    "                         validation_data = test_set, # To evaluate performance on test dataset\n",
    "                         nb_val_samples = 2000)      # No. of images in test dataset"
   ]
  },
  {
   "cell_type": "code",
   "execution_count": null,
   "metadata": {},
   "outputs": [],
   "source": []
  }
 ],
 "metadata": {
  "kernelspec": {
   "display_name": "Python 3",
   "language": "python",
   "name": "python3"
  },
  "language_info": {
   "codemirror_mode": {
    "name": "ipython",
    "version": 3
   },
   "file_extension": ".py",
   "mimetype": "text/x-python",
   "name": "python",
   "nbconvert_exporter": "python",
   "pygments_lexer": "ipython3",
   "version": "3.7.4"
  }
 },
 "nbformat": 4,
 "nbformat_minor": 2
}
